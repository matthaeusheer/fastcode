{
 "cells": [
  {
   "cell_type": "code",
   "execution_count": null,
   "metadata": {},
   "outputs": [],
   "source": [
    "%load_ext autoreload\n",
    "%autoreload 2\n",
    "%matplotlib inline\n",
    "import mpld3\n",
    "#mpld3.enable_notebook()  # uncomment for zooming capabilities\n",
    "\n",
    "from pprint import pprint\n",
    "\n",
    "from context import fastpy\n",
    "from fastpy.io.output_loader import OutputParser\n",
    "from fastpy.evaluation import performance_calculations\n",
    "from fastpy.evaluation import plotting\n",
    "\n",
    "from typing import List, Dict"
   ]
  },
  {
   "cell_type": "code",
   "execution_count": null,
   "metadata": {
    "scrolled": false
   },
   "outputs": [],
   "source": [
    "output_parser = OutputParser(use_most_recent=True)\n",
    "perf_metrics = performance_calculations.performance_metrics(output_parser)\n",
    "_ = plotting.plot_perf_metric_vs_config_val(perf_metrics, x_key='population', y_key='op_intensity')"
   ]
  },
  {
   "cell_type": "code",
   "execution_count": null,
   "metadata": {},
   "outputs": [],
   "source": [
    "# This is how a performance metrics dict looks like.\n",
    "list(perf_metrics.values())[0]"
   ]
  },
  {
   "cell_type": "code",
   "execution_count": null,
   "metadata": {},
   "outputs": [],
   "source": [
    "plotting.plot_multiple_perf_metric_vs_config_val(perf_metrics, x_key='population', y_keys=['performance',\n",
    "                                                                                           'op_intensity'])"
   ]
  },
  {
   "cell_type": "code",
   "execution_count": null,
   "metadata": {},
   "outputs": [],
   "source": [
    "plotting.plot_multiple_perf_metric_vs_config_val(perf_metrics, x_key='population', y_keys=['mem_move_bytes',\n",
    "                                                                                           'flop_count'])"
   ]
  },
  {
   "cell_type": "code",
   "execution_count": null,
   "metadata": {},
   "outputs": [],
   "source": [
    "#mpld3.disable_notebook()\n",
    "roofline_fig, roofline_ax = plotting.roofline_plot()"
   ]
  },
  {
   "cell_type": "code",
   "execution_count": null,
   "metadata": {},
   "outputs": [],
   "source": [
    "plotting.perf_in_roofline_plot(perf_metrics, label='bla', color='green')"
   ]
  },
  {
   "cell_type": "code",
   "execution_count": null,
   "metadata": {},
   "outputs": [],
   "source": [
    "run_dict = {'1000 Iterations': 'run_2019-05-19_09-15-36-280469',\n",
    "            '100 Iterations': 'run_2019-05-19_09-21-20-052054',\n",
    "            '1 Iteration': 'run_2019-05-19_09-29-46-356628'}\n",
    "multiple_perf_metrics = plotting.prepare_multiple_perf_metrics(run_dict)\n",
    "plotting.multiple_perf_in_roofline_plot(multiple_perf_metrics, 'jet')"
   ]
  }
 ],
 "metadata": {
  "kernelspec": {
   "display_name": "fastpy",
   "language": "python",
   "name": "fastpy"
  },
  "language_info": {
   "codemirror_mode": {
    "name": "ipython",
    "version": 3
   },
   "file_extension": ".py",
   "mimetype": "text/x-python",
   "name": "python",
   "nbconvert_exporter": "python",
   "pygments_lexer": "ipython3",
   "version": "3.7.3"
  }
 },
 "nbformat": 4,
 "nbformat_minor": 2
}
