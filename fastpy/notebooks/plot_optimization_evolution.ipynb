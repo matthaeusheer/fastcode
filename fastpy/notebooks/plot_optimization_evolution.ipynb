{
 "cells": [
  {
   "cell_type": "code",
   "execution_count": null,
   "metadata": {},
   "outputs": [],
   "source": [
    "%load_ext autoreload\n",
    "%autoreload 2\n",
    "\n",
    "from pprint import pprint\n",
    "import matplotlib\n",
    "%matplotlib inline"
   ]
  },
  {
   "cell_type": "code",
   "execution_count": null,
   "metadata": {},
   "outputs": [],
   "source": [
    "from context import fastpy\n",
    "from fastpy.io import debug_loader\n",
    "from fastpy.visualization import viz_evolution"
   ]
  },
  {
   "cell_type": "markdown",
   "metadata": {},
   "source": [
    "# How To"
   ]
  },
  {
   "cell_type": "markdown",
   "metadata": {},
   "source": [
    "## 1) Make sure the correct things are printed\n",
    "\n",
    "The interesting section is the section where the population gets printed. Make sure to have it comma separated and each line is basically  \n",
    "```\n",
    "identifier, x, y, \n",
    "```\n",
    "for the parsing to work. Checkout __gwo_print_pop(wolf_count, dim, population);__ function for how to achieve this.\n",
    "Full example output:\n",
    "\n",
    "```\n",
    "===========================================\n",
    "  Algorithm:          hgwosca\n",
    "  Objective function: sum\n",
    "  Dimension:          2\n",
    "  Population          5\n",
    "  N Iterations:       3\n",
    "  Min position:       -100\n",
    "  Max position        100\n",
    " ===========================================\n",
    "\n",
    "wolf000, -99.9984, -73.6924,\n",
    "wolf001, -37.0967, -6.2743,\n",
    "wolf002, 6.5534, -56.2082,\n",
    "wolf003, -90.5911, 35.7729,\n",
    "wolf004, 61.5927, -76.7702,\n",
    "wolf000, -99.9984, -73.6924,\n",
    "wolf001, -57.8154, -29.4420,\n",
    "wolf002, 6.5534, -56.2082,\n",
    "wolf003, -90.5911, 35.7729,\n",
    "wolf004, -2.7790, -80.3175,\n",
    "wolf000, -99.9984, -73.6924,\n",
    "wolf001, -57.8154, -29.4420,\n",
    "wolf002, -52.6426, -59.6612,\n",
    "wolf003, -35.4181, -55.2681,\n",
    "wolf004, -2.7790, -80.3175,\n",
    "Stored timings in: ../data/timings.txt\n",
    "```\n",
    "## 2) Create the parsed output\n",
    "Simply pipe the std out into a file like so  \n",
    "./benchmark -a \"hgwosca\" -o \"sum\" -n 5 -m 1 -d 2 -p 100 -y -100 -z 100 -s \"../data/solution.txt\" -f \"../data/timings.txt\" > parsed_output.txt\n",
    "\n",
    "## 3) Adapt the path below to point to your output file\n",
    "PARSE_FILE_PATH=...\n",
    "\n",
    "## 4) If you print other stuff before or after, make sure to adjust skiprows and skipfooter\n",
    "Compare with the upper file, we ignore the param section at the beginning and the line in the end."
   ]
  },
  {
   "cell_type": "code",
   "execution_count": null,
   "metadata": {
    "scrolled": false
   },
   "outputs": [],
   "source": [
    "PARSE_FILE_PATH = '/Users/matthausheer/university/howtowritefastnumericalcode/fastcode/'+ \\\n",
    "'cmake-build-debug/parsed_output.txt'\n",
    "\n",
    "evolution_data = debug_loader.parse_pen_print_pop_output(PARSE_FILE_PATH, skiprows=11, skipfooter=2)\n",
    "\n",
    "fig, ax = viz_evolution.plot_optimization_evolution_2d(evolution_data, obj_func='rosenbrock', \n",
    "                                                       xlims=[-10, 10], ylims=[-10, 10], title='PSO')"
   ]
  },
  {
   "cell_type": "markdown",
   "metadata": {},
   "source": [
    "# Objective function plotter"
   ]
  },
  {
   "cell_type": "code",
   "execution_count": null,
   "metadata": {},
   "outputs": [],
   "source": [
    "avg_obj_values = debug_loader.parse_lines_with_start(PARSE_FILE_PATH, '# AVG FITNESS:')\n",
    "best_obj_values = debug_loader.parse_lines_with_start(PARSE_FILE_PATH, '# BEST FITNESS:')"
   ]
  },
  {
   "cell_type": "code",
   "execution_count": null,
   "metadata": {},
   "outputs": [],
   "source": [
    "_ = viz_evolution.plot_objective_value_evolution(avg_obj_values, best_obj_values, title='')"
   ]
  },
  {
   "cell_type": "code",
   "execution_count": null,
   "metadata": {},
   "outputs": [],
   "source": []
  }
 ],
 "metadata": {
  "kernelspec": {
   "display_name": "fastcode_env",
   "language": "python",
   "name": "fastcode_env"
  },
  "language_info": {
   "codemirror_mode": {
    "name": "ipython",
    "version": 3
   },
   "file_extension": ".py",
   "mimetype": "text/x-python",
   "name": "python",
   "nbconvert_exporter": "python",
   "pygments_lexer": "ipython3",
   "version": "3.6.0"
  }
 },
 "nbformat": 4,
 "nbformat_minor": 2
}
