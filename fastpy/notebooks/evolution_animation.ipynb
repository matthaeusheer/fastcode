{
 "cells": [
  {
   "cell_type": "code",
   "execution_count": null,
   "metadata": {},
   "outputs": [],
   "source": [
    "%load_ext autoreload\n",
    "%autoreload 2\n",
    "\n",
    "from plotly.offline import init_notebook_mode, iplot\n",
    "from IPython.display import display, HTML\n",
    "\n",
    "from context import fastpy\n",
    "from fastpy.io import debug_loader\n",
    "from fastpy.visualization import viz_evolution\n",
    "from fastpy.visualization import viz_utils\n",
    "from fastpy.visualization import viz_evolution"
   ]
  },
  {
   "cell_type": "code",
   "execution_count": null,
   "metadata": {
    "scrolled": false
   },
   "outputs": [],
   "source": [
    "PARSE_FILE_PATH = '/Users/matthausheer/university/howtowritefastnumericalcode/fastcode/'+ \\\n",
    "'cmake-build-debug/parsed_output.txt'\n",
    "evolution_data = debug_loader.parse_pen_print_pop_output(PARSE_FILE_PATH, skiprows=11, skipfooter=2)\n",
    "avg_obj_values = debug_loader.parse_lines_with_start(PARSE_FILE_PATH, '# AVG FITNESS:')\n",
    "\n",
    "init_notebook_mode(connected=True)\n",
    "\n",
    "figure = viz_evolution.simulate_optimization_evolution_2d(evolution_data, avg_obj_values)\n",
    "\n",
    "iplot(figure)"
   ]
  },
  {
   "cell_type": "code",
   "execution_count": null,
   "metadata": {},
   "outputs": [],
   "source": []
  }
 ],
 "metadata": {
  "kernelspec": {
   "display_name": "fastpy",
   "language": "python",
   "name": "fastpy"
  },
  "language_info": {
   "codemirror_mode": {
    "name": "ipython",
    "version": 3
   },
   "file_extension": ".py",
   "mimetype": "text/x-python",
   "name": "python",
   "nbconvert_exporter": "python",
   "pygments_lexer": "ipython3",
   "version": "3.7.0"
  }
 },
 "nbformat": 4,
 "nbformat_minor": 2
}
