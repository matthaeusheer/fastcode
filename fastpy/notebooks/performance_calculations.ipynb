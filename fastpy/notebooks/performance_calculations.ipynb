{
 "cells": [
  {
   "cell_type": "code",
   "execution_count": null,
   "metadata": {},
   "outputs": [],
   "source": [
    "%load_ext autoreload\n",
    "%autoreload 2\n",
    "%matplotlib inline\n",
    "import mpld3\n",
    "#mpld3.enable_notebook()  # uncomment for zooming capabilities\n",
    "\n",
    "from pprint import pprint\n",
    "\n",
    "from context import fastpy\n",
    "from fastpy.io.output_loader import OutputParser\n",
    "from fastpy.evaluation import performance_calculations\n",
    "from fastpy.evaluation import plotting\n",
    "\n",
    "from typing import List, Dict"
   ]
  },
  {
   "cell_type": "code",
   "execution_count": null,
   "metadata": {
    "scrolled": true
   },
   "outputs": [],
   "source": [
    "output_parser = OutputParser()\n",
    "perf_metrics = performance_calculations.performance_metrics(output_parser)"
   ]
  },
  {
   "cell_type": "code",
   "execution_count": null,
   "metadata": {},
   "outputs": [],
   "source": [
    "# This is how a performance metrics dict looks like.\n",
    "list(perf_metrics.values())[0]"
   ]
  },
  {
   "cell_type": "code",
   "execution_count": null,
   "metadata": {},
   "outputs": [],
   "source": [
    "_ = plotting.plot_perf_metric_vs_config_val(perf_metrics, x_val='n_iter', y_val='performance')"
   ]
  },
  {
   "cell_type": "code",
   "execution_count": null,
   "metadata": {},
   "outputs": [],
   "source": [
    "plotting.plot_multiple_perf_metric_vs_config_val(perf_metrics, x_val='n_iter', y_vals=['performance',\n",
    "                                                                                       'op_intensity'])"
   ]
  },
  {
   "cell_type": "code",
   "execution_count": null,
   "metadata": {},
   "outputs": [],
   "source": [
    "plotting.plot_multiple_perf_metric_vs_config_val(perf_metrics, x_val='n_iter', y_vals=['mem_move_bytes',\n",
    "                                                                                       'flop_count'])"
   ]
  },
  {
   "cell_type": "code",
   "execution_count": null,
   "metadata": {},
   "outputs": [],
   "source": []
  }
 ],
 "metadata": {
  "kernelspec": {
   "display_name": "fastpy",
   "language": "python",
   "name": "fastpy"
  },
  "language_info": {
   "codemirror_mode": {
    "name": "ipython",
    "version": 3
   },
   "file_extension": ".py",
   "mimetype": "text/x-python",
   "name": "python",
   "nbconvert_exporter": "python",
   "pygments_lexer": "ipython3",
   "version": "3.7.0"
  }
 },
 "nbformat": 4,
 "nbformat_minor": 2
}
