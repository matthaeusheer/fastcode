{
 "cells": [
  {
   "cell_type": "code",
   "execution_count": null,
   "metadata": {},
   "outputs": [],
   "source": [
    "%load_ext autoreload\n",
    "%autoreload 2\n",
    "%matplotlib inline\n",
    "import mpld3\n",
    "#mpld3.enable_notebook()  # uncomment for zooming capabilities\n",
    "\n",
    "from pprint import pprint\n",
    "\n",
    "from context import fastpy\n",
    "from fastpy.io.output_loader import OutputParser\n",
    "from fastpy.evaluation import performance_calculations\n",
    "from fastpy.evaluation import plotting\n",
    "\n",
    "from typing import List, Dict"
   ]
  },
  {
   "cell_type": "code",
   "execution_count": null,
   "metadata": {
    "scrolled": false
   },
   "outputs": [],
   "source": [
    "output_parser = OutputParser(use_most_recent=True)\n",
    "perf_metrics = performance_calculations.performance_metrics(output_parser)\n",
    "_ = plotting.plot_perf_metric_vs_config_val(perf_metrics, x_key='population', y_key='mean_runtime')"
   ]
  },
  {
   "cell_type": "code",
   "execution_count": null,
   "metadata": {},
   "outputs": [],
   "source": [
    "# This is how a performance metrics dict looks like.\n",
    "list(perf_metrics.values())[0]"
   ]
  },
  {
   "cell_type": "code",
   "execution_count": null,
   "metadata": {},
   "outputs": [],
   "source": [
    "plotting.plot_multiple_perf_metric_vs_config_val(perf_metrics, x_key='population', y_keys=['performance',\n",
    "                                                                                           'op_intensity'])"
   ]
  },
  {
   "cell_type": "code",
   "execution_count": null,
   "metadata": {},
   "outputs": [],
   "source": [
    "plotting.plot_multiple_perf_metric_vs_config_val(perf_metrics, x_key='population', y_keys=['mem_move_bytes',\n",
    "                                                                                           'flop_count'])"
   ]
  },
  {
   "cell_type": "code",
   "execution_count": null,
   "metadata": {},
   "outputs": [],
   "source": [
    "print(list(range(int(1024), int(10e3), 1024)))"
   ]
  }
 ],
 "metadata": {
  "kernelspec": {
   "display_name": "fastpy",
   "language": "python",
   "name": "fastpy"
  },
  "language_info": {
   "codemirror_mode": {
    "name": "ipython",
    "version": 3
   },
   "file_extension": ".py",
   "mimetype": "text/x-python",
   "name": "python",
   "nbconvert_exporter": "python",
   "pygments_lexer": "ipython3",
   "version": "3.7.0"
  }
 },
 "nbformat": 4,
 "nbformat_minor": 2
}
