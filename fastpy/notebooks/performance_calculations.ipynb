{
 "cells": [
  {
   "cell_type": "code",
   "execution_count": null,
   "metadata": {},
   "outputs": [],
   "source": [
    "%load_ext autoreload\n",
    "%autoreload 2\n",
    "\n",
    "from context import fastpy\n",
    "from fastpy.io.output_loader import OutputParser\n",
    "from fastpy.evaluation.performance_calculations import calc_op_intensity\n",
    "\n",
    "from typing import List, Dict"
   ]
  },
  {
   "cell_type": "code",
   "execution_count": null,
   "metadata": {},
   "outputs": [],
   "source": [
    "output_parser = OutputParser()"
   ]
  },
  {
   "cell_type": "code",
   "execution_count": null,
   "metadata": {},
   "outputs": [],
   "source": [
    "def calc_op_intensity_all_runs(output_parser: OutputParser) -> List[Dict]:\n",
    "    \n",
    "    results = {}\n",
    "    for run_name, sub_config in output_parser.sub_configs.items():\n",
    "        operational_intensity = calc_op_intensity(sub_config)\n",
    "        results[run_name] = {'config': sub_config, 'op_intensity': operational_intensity}\n",
    "    return results    \n",
    "    \n",
    "calc_op_intensity_all_runs(output_parser)"
   ]
  },
  {
   "cell_type": "code",
   "execution_count": null,
   "metadata": {},
   "outputs": [],
   "source": []
  }
 ],
 "metadata": {
  "kernelspec": {
   "display_name": "fastpy",
   "language": "python",
   "name": "fastpy"
  },
  "language_info": {
   "codemirror_mode": {
    "name": "ipython",
    "version": 3
   },
   "file_extension": ".py",
   "mimetype": "text/x-python",
   "name": "python",
   "nbconvert_exporter": "python",
   "pygments_lexer": "ipython3",
   "version": "3.7.0"
  }
 },
 "nbformat": 4,
 "nbformat_minor": 2
}
