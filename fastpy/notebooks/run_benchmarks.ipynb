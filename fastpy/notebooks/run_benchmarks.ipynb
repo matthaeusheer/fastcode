{
 "cells": [
  {
   "cell_type": "code",
   "execution_count": null,
   "metadata": {},
   "outputs": [],
   "source": [
    "%load_ext autoreload\n",
    "%autoreload 2\n",
    "\n",
    "import os\n",
    "import matplotlib\n",
    "%matplotlib inline\n",
    "\n",
    "from common import PROJECT_ROOT_PATH\n",
    "from context import fastpy\n",
    "from fastpy.evaluation import plotting\n",
    "from fastpy.run.Runner import MultiBenchmarkRunner\n"
   ]
  },
  {
   "cell_type": "markdown",
   "metadata": {},
   "source": [
    "# Run benchmarks\n",
    "Alongside with the python script in the fastPy root, this notebook can run issue benchmark runs."
   ]
  },
  {
   "cell_type": "markdown",
   "metadata": {},
   "source": [
    "## Multiple-release benchmark runs"
   ]
  },
  {
   "cell_type": "code",
   "execution_count": null,
   "metadata": {},
   "outputs": [],
   "source": [
    "multi_bench_runner = MultiBenchmarkRunner(config_path=os.path.join(os.path.join(PROJECT_ROOT_PATH, 'config.json')))\n",
    "tag_run_name_dict = multi_bench_runner.perform_runs(force_compile=True)"
   ]
  },
  {
   "cell_type": "markdown",
   "metadata": {},
   "source": [
    "### Evaluation"
   ]
  },
  {
   "cell_type": "code",
   "execution_count": null,
   "metadata": {},
   "outputs": [],
   "source": [
    "out_parser_dict = plotting.prepare_multiple_out_parsers(tag_run_name_dict)\n",
    "COLOR_MAP = 'cool'\n",
    "plotting.mult_plot_runtime_performance(out_parser_dict, plot_type='performance', colormap=COLOR_MAP, reverse_legend=False)\n",
    "plotting.mult_plot_runtime_performance(out_parser_dict, plot_type='mean_runtime', colormap=COLOR_MAP, reverse_legend=True)"
   ]
  },
  {
   "cell_type": "code",
   "execution_count": null,
   "metadata": {},
   "outputs": [],
   "source": []
  }
 ],
 "metadata": {
  "kernelspec": {
   "display_name": "fastpy",
   "language": "python",
   "name": "fastpy"
  },
  "language_info": {
   "codemirror_mode": {
    "name": "ipython",
    "version": 3
   },
   "file_extension": ".py",
   "mimetype": "text/x-python",
   "name": "python",
   "nbconvert_exporter": "python",
   "pygments_lexer": "ipython3",
   "version": "3.7.3"
  }
 },
 "nbformat": 4,
 "nbformat_minor": 2
}
