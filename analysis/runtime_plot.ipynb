{
 "cells": [
  {
   "cell_type": "code",
   "execution_count": null,
   "metadata": {},
   "outputs": [],
   "source": [
    "import os\n",
    "import argparse\n",
    "from pprint import pprint\n",
    "\n",
    "import matplotlib\n",
    "import matplotlib.pyplot as plt\n",
    "import sys\n",
    "import numpy as np"
   ]
  },
  {
   "cell_type": "code",
   "execution_count": null,
   "metadata": {},
   "outputs": [],
   "source": [
    "DIR_PATH = '/Users/matthausheer/university/howtowritefastnumericalcode/fastcode/benchmark'\n",
    "FILE_NAME = 'output.txt'"
   ]
  },
  {
   "cell_type": "code",
   "execution_count": null,
   "metadata": {},
   "outputs": [],
   "source": [
    "def load_input_size_benchmark_output(dir_name, file_name):\n",
    "\n",
    "    file_path = os.path.join(dir_name, file_name)\n",
    "\n",
    "    with open(file_path, 'r') as infile:\n",
    "        return infile.read().splitlines()\n",
    "\n",
    "def parse_output(dir_path, file_name):\n",
    "\n",
    "    lines = load_input_size_benchmark_output(dir_path, file_name)\n",
    "\n",
    "    git_data = {}\n",
    "    config = {}\n",
    "    timings = {'input_size': [], 'cycles': []}\n",
    "\n",
    "    curr_section = ''\n",
    "\n",
    "    for line in lines:\n",
    "        if line == '':\n",
    "            continue\n",
    "\n",
    "        if line.startswith('#'):\n",
    "            curr_section = line.split(' ')[1]\n",
    "            continue\n",
    "\n",
    "        if curr_section == 'Git':\n",
    "            splitted = line.split('-', 1)\n",
    "            git_data[splitted[0].strip()] = splitted[1].strip()\n",
    "\n",
    "        elif curr_section == 'Parameters':\n",
    "            splitted = line.split(':')\n",
    "            config[splitted[0]] = splitted[1]\n",
    "\n",
    "        elif curr_section == 'Timings':\n",
    "            input_size_str, timing_str = line.split(',')\n",
    "\n",
    "            timings['input_size'].append(int(input_size_str.split(':')[1]))\n",
    "            timings['cycles'].append(int(timing_str.strip().split(' ')[1]))\n",
    "\n",
    "    return git_data, config, timings\n",
    "\n",
    "def setup_figure_1ax(x_label='', y_label='', size=(13, 9), shrink_ax=True):\n",
    "    \"\"\"Returns a figure and ax with legend on the right hand side, no spines.\"\"\"\n",
    "    matplotlib.rcParams.update({'font.size': 20})\n",
    "    fig, ax = plt.subplots()\n",
    "    fig.set_size_inches(size)\n",
    "    ax.set_xlabel(x_label)\n",
    "    ax.set_ylabel(y_label)\n",
    "    ax.spines['top'].set_visible(False)\n",
    "    ax.spines['right'].set_visible(False)\n",
    "    ax.spines['bottom'].set_visible(False)\n",
    "    ax.spines['left'].set_visible(False)\n",
    "    # Shrink current axis by 20%\n",
    "    if shrink_ax:\n",
    "        box = ax.get_position()\n",
    "        ax.set_position([box.x0, box.y0, box.width * 0.8, box.height])\n",
    "    return fig, ax\n"
   ]
  },
  {
   "cell_type": "code",
   "execution_count": null,
   "metadata": {},
   "outputs": [],
   "source": [
    "git_data, config, timings = parse_output(DIR_PATH, FILE_NAME)"
   ]
  },
  {
   "cell_type": "code",
   "execution_count": null,
   "metadata": {},
   "outputs": [],
   "source": [
    "fig, ax = setup_figure_1ax()\n",
    "\n",
    "ax.plot(np.array(timings['input_size']), np.array(timings['cycles']) / 10e6, '-c', alpha=0.9)\n",
    "ax.set_ylabel('Runtime [10e6 cycles]')\n",
    "ax.set_xlabel('Input size n')\n"
   ]
  },
  {
   "cell_type": "code",
   "execution_count": null,
   "metadata": {},
   "outputs": [],
   "source": []
  }
 ],
 "metadata": {
  "kernelspec": {
   "display_name": "Python skills_ml",
   "language": "python",
   "name": "skills_ml_env"
  },
  "language_info": {
   "codemirror_mode": {
    "name": "ipython",
    "version": 3
   },
   "file_extension": ".py",
   "mimetype": "text/x-python",
   "name": "python",
   "nbconvert_exporter": "python",
   "pygments_lexer": "ipython3",
   "version": "3.6.0"
  }
 },
 "nbformat": 4,
 "nbformat_minor": 2
}
